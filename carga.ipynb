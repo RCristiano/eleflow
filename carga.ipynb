{
 "metadata": {
  "language_info": {
   "codemirror_mode": {
    "name": "ipython",
    "version": 3
   },
   "file_extension": ".py",
   "mimetype": "text/x-python",
   "name": "python",
   "nbconvert_exporter": "python",
   "pygments_lexer": "ipython3",
   "version": "3.8.8-final"
  },
  "orig_nbformat": 2,
  "kernelspec": {
   "name": "python3",
   "display_name": "Python 3.8.8 64-bit ('eleflow-jm8Snf4y-py3.8')",
   "metadata": {
    "interpreter": {
     "hash": "0136060d1a23f390d78cea4682c37939f2afa1dd75822a732f622ca121b942ff"
    }
   }
  }
 },
 "nbformat": 4,
 "nbformat_minor": 2,
 "cells": [
  {
   "cell_type": "code",
   "execution_count": 1,
   "metadata": {},
   "outputs": [
    {
     "output_type": "execute_result",
     "data": {
      "text/plain": [
       "    ano       insumos   agropecuária      industria       servicos  \\\n",
       "0  1996  31597.663029  200211.777672  514755.882623  646536.982537   \n",
       "1  1997  32825.998197  199911.301734  482894.842674  604714.559307   \n",
       "2  1998  31818.410647  200969.741431  455966.002147  576123.413175   \n",
       "3  1999  34784.067160  206952.587184  453199.228768  573119.731296   \n",
       "4  2000  40682.954859  209175.390473  496957.470676  626206.339831   \n",
       "\n",
       "          total         ramo  pib_renda  \n",
       "0  1.393102e+06  agronegocio       True  \n",
       "1  1.320347e+06  agronegocio       True  \n",
       "2  1.264878e+06  agronegocio       True  \n",
       "3  1.268056e+06  agronegocio       True  \n",
       "4  1.373022e+06  agronegocio       True  "
      ],
      "text/html": "<div>\n<style scoped>\n    .dataframe tbody tr th:only-of-type {\n        vertical-align: middle;\n    }\n\n    .dataframe tbody tr th {\n        vertical-align: top;\n    }\n\n    .dataframe thead th {\n        text-align: right;\n    }\n</style>\n<table border=\"1\" class=\"dataframe\">\n  <thead>\n    <tr style=\"text-align: right;\">\n      <th></th>\n      <th>ano</th>\n      <th>insumos</th>\n      <th>agropecuária</th>\n      <th>industria</th>\n      <th>servicos</th>\n      <th>total</th>\n      <th>ramo</th>\n      <th>pib_renda</th>\n    </tr>\n  </thead>\n  <tbody>\n    <tr>\n      <th>0</th>\n      <td>1996</td>\n      <td>31597.663029</td>\n      <td>200211.777672</td>\n      <td>514755.882623</td>\n      <td>646536.982537</td>\n      <td>1.393102e+06</td>\n      <td>agronegocio</td>\n      <td>True</td>\n    </tr>\n    <tr>\n      <th>1</th>\n      <td>1997</td>\n      <td>32825.998197</td>\n      <td>199911.301734</td>\n      <td>482894.842674</td>\n      <td>604714.559307</td>\n      <td>1.320347e+06</td>\n      <td>agronegocio</td>\n      <td>True</td>\n    </tr>\n    <tr>\n      <th>2</th>\n      <td>1998</td>\n      <td>31818.410647</td>\n      <td>200969.741431</td>\n      <td>455966.002147</td>\n      <td>576123.413175</td>\n      <td>1.264878e+06</td>\n      <td>agronegocio</td>\n      <td>True</td>\n    </tr>\n    <tr>\n      <th>3</th>\n      <td>1999</td>\n      <td>34784.067160</td>\n      <td>206952.587184</td>\n      <td>453199.228768</td>\n      <td>573119.731296</td>\n      <td>1.268056e+06</td>\n      <td>agronegocio</td>\n      <td>True</td>\n    </tr>\n    <tr>\n      <th>4</th>\n      <td>2000</td>\n      <td>40682.954859</td>\n      <td>209175.390473</td>\n      <td>496957.470676</td>\n      <td>626206.339831</td>\n      <td>1.373022e+06</td>\n      <td>agronegocio</td>\n      <td>True</td>\n    </tr>\n  </tbody>\n</table>\n</div>"
     },
     "metadata": {},
     "execution_count": 1
    }
   ],
   "source": [
    "import pandas as pd\n",
    "\n",
    "column_names = ['ano', 'insumos', 'agropecuária', 'industria', 'servicos', 'total']\n",
    "sheet_cols = ['A:F', 'A,H:L', 'A,N:R', 'A,T:X', 'A,Z:AD', 'A,AF:AJ']\n",
    "add_column = ['agronegocio', 'agricola', 'pecuario']\n",
    "\n",
    "list_pib = []\n",
    "\n",
    "n = 0\n",
    "for cols in sheet_cols:\n",
    "    df_pib = pd.read_excel(\n",
    "        'raw/PIB_Cepea.xlsx',\n",
    "        usecols=cols,\n",
    "        skiprows=8,\n",
    "        nrows=24,\n",
    "        header=None,\n",
    "        names=column_names\n",
    "    )\n",
    "    df_pib['ramo'] = add_column[n if n < 3 else n - 3]\n",
    "    df_pib['pib_renda'] = True if n < 3 else False\n",
    "    list_pib.append(df_pib)\n",
    "    n += 1\n",
    "\n",
    "df_pib = pd.concat(list_pib, ignore_index=True)\n",
    "\n",
    "df_pib.head()"
   ]
  },
  {
   "cell_type": "code",
   "execution_count": 2,
   "metadata": {},
   "outputs": [
    {
     "output_type": "execute_result",
     "data": {
      "text/plain": [
       "         uf area_abril  area_maio area_junho prod_abril  prod_maio prod_junho\n",
       "0   ALAGOAS     45 842     80 283     80 385     95 917    105 458    105 525\n",
       "1     AMAPÁ     21 548     22 442     23 242     50 813     60 375     62 955\n",
       "2  AMAZONAS     22 930     22 930     22 930     41 207     41 420     41 420\n",
       "3     BAHIA  3 130 065  3 107 865  3 085 865  8 283 660  9 065 031  9 359 331\n",
       "4     CEARÁ    909 518    961 926    961 640    559 791    918 483    903 649"
      ],
      "text/html": "<div>\n<style scoped>\n    .dataframe tbody tr th:only-of-type {\n        vertical-align: middle;\n    }\n\n    .dataframe tbody tr th {\n        vertical-align: top;\n    }\n\n    .dataframe thead th {\n        text-align: right;\n    }\n</style>\n<table border=\"1\" class=\"dataframe\">\n  <thead>\n    <tr style=\"text-align: right;\">\n      <th></th>\n      <th>uf</th>\n      <th>area_abril</th>\n      <th>area_maio</th>\n      <th>area_junho</th>\n      <th>prod_abril</th>\n      <th>prod_maio</th>\n      <th>prod_junho</th>\n    </tr>\n  </thead>\n  <tbody>\n    <tr>\n      <th>0</th>\n      <td>ALAGOAS</td>\n      <td>45 842</td>\n      <td>80 283</td>\n      <td>80 385</td>\n      <td>95 917</td>\n      <td>105 458</td>\n      <td>105 525</td>\n    </tr>\n    <tr>\n      <th>1</th>\n      <td>AMAPÁ</td>\n      <td>21 548</td>\n      <td>22 442</td>\n      <td>23 242</td>\n      <td>50 813</td>\n      <td>60 375</td>\n      <td>62 955</td>\n    </tr>\n    <tr>\n      <th>2</th>\n      <td>AMAZONAS</td>\n      <td>22 930</td>\n      <td>22 930</td>\n      <td>22 930</td>\n      <td>41 207</td>\n      <td>41 420</td>\n      <td>41 420</td>\n    </tr>\n    <tr>\n      <th>3</th>\n      <td>BAHIA</td>\n      <td>3 130 065</td>\n      <td>3 107 865</td>\n      <td>3 085 865</td>\n      <td>8 283 660</td>\n      <td>9 065 031</td>\n      <td>9 359 331</td>\n    </tr>\n    <tr>\n      <th>4</th>\n      <td>CEARÁ</td>\n      <td>909 518</td>\n      <td>961 926</td>\n      <td>961 640</td>\n      <td>559 791</td>\n      <td>918 483</td>\n      <td>903 649</td>\n    </tr>\n  </tbody>\n</table>\n</div>"
     },
     "metadata": {},
     "execution_count": 2
    }
   ],
   "source": [
    "df_prod = pd.read_excel(\n",
    "    'raw/produção_2019.xlsx',\n",
    "    skiprows=6,\n",
    "    nrows=26,\n",
    "    names=['uf', 'area_abril', 'area_maio', 'area_junho', 'prod_abril', 'prod_maio', 'prod_junho']\n",
    ")\n",
    "\n",
    "df_prod.head()"
   ]
  },
  {
   "cell_type": "code",
   "execution_count": 3,
   "metadata": {},
   "outputs": [
    {
     "output_type": "execute_result",
     "data": {
      "text/plain": [
       "   area_abril  area_maio  area_junho  prod_abril  prod_maio  prod_junho  \\\n",
       "0       45842      80283       80385       95917     105458      105525   \n",
       "1       21548      22442       23242       50813      60375       62955   \n",
       "2       22930      22930       22930       41207      41420       41420   \n",
       "3     3130065    3107865     3085865     8283660    9065031     9359331   \n",
       "4      909518     961926      961640      559791     918483      903649   \n",
       "\n",
       "         uf  \n",
       "0   ALAGOAS  \n",
       "1     AMAPÁ  \n",
       "2  AMAZONAS  \n",
       "3     BAHIA  \n",
       "4     CEARÁ  "
      ],
      "text/html": "<div>\n<style scoped>\n    .dataframe tbody tr th:only-of-type {\n        vertical-align: middle;\n    }\n\n    .dataframe tbody tr th {\n        vertical-align: top;\n    }\n\n    .dataframe thead th {\n        text-align: right;\n    }\n</style>\n<table border=\"1\" class=\"dataframe\">\n  <thead>\n    <tr style=\"text-align: right;\">\n      <th></th>\n      <th>area_abril</th>\n      <th>area_maio</th>\n      <th>area_junho</th>\n      <th>prod_abril</th>\n      <th>prod_maio</th>\n      <th>prod_junho</th>\n      <th>uf</th>\n    </tr>\n  </thead>\n  <tbody>\n    <tr>\n      <th>0</th>\n      <td>45842</td>\n      <td>80283</td>\n      <td>80385</td>\n      <td>95917</td>\n      <td>105458</td>\n      <td>105525</td>\n      <td>ALAGOAS</td>\n    </tr>\n    <tr>\n      <th>1</th>\n      <td>21548</td>\n      <td>22442</td>\n      <td>23242</td>\n      <td>50813</td>\n      <td>60375</td>\n      <td>62955</td>\n      <td>AMAPÁ</td>\n    </tr>\n    <tr>\n      <th>2</th>\n      <td>22930</td>\n      <td>22930</td>\n      <td>22930</td>\n      <td>41207</td>\n      <td>41420</td>\n      <td>41420</td>\n      <td>AMAZONAS</td>\n    </tr>\n    <tr>\n      <th>3</th>\n      <td>3130065</td>\n      <td>3107865</td>\n      <td>3085865</td>\n      <td>8283660</td>\n      <td>9065031</td>\n      <td>9359331</td>\n      <td>BAHIA</td>\n    </tr>\n    <tr>\n      <th>4</th>\n      <td>909518</td>\n      <td>961926</td>\n      <td>961640</td>\n      <td>559791</td>\n      <td>918483</td>\n      <td>903649</td>\n      <td>CEARÁ</td>\n    </tr>\n  </tbody>\n</table>\n</div>"
     },
     "metadata": {},
     "execution_count": 3
    }
   ],
   "source": [
    "temp = df_prod[\n",
    "    ['area_abril', 'area_maio', 'area_junho', 'prod_abril', 'prod_maio', 'prod_junho']\n",
    "].applymap(lambda _: _.replace(' ', '')).astype('int')\n",
    "temp['uf'] = df_prod['uf']\n",
    "df_prod = temp\n",
    "df_prod.head()"
   ]
  },
  {
   "cell_type": "code",
   "execution_count": 4,
   "metadata": {},
   "outputs": [],
   "source": [
    "from sqlalchemy import create_engine\n",
    "from decouple import config\n",
    "\n",
    "USER_DB = config(\"USER_DB\", default='postgres')\n",
    "PASSWORD_DB = config(\"PASSWORD_DB\", default='password')\n",
    "URL_DB = config(\"URL_DB\", default='localhost')\n",
    "NAME_DB = config(\"NAME_DB\", default='db_name')\n",
    "PORT_DB = config(\"PORT_DB\", default='5432')\n",
    "DB_URL = f\"postgresql://{USER_DB}:{PASSWORD_DB}@{URL_DB}:{PORT_DB}/{NAME_DB}\"\n",
    "\n",
    "\n",
    "engine = create_engine(DB_URL)\n",
    "\n",
    "df_pib.to_sql(name='PIP_Cepea', con=engine, if_exists='replace')\n",
    "df_prod.to_sql(name='producao_2019', con=engine, if_exists='replace')"
   ]
  },
  {
   "cell_type": "code",
   "execution_count": null,
   "metadata": {},
   "outputs": [],
   "source": []
  }
 ]
}