{
 "metadata": {
  "language_info": {
   "codemirror_mode": {
    "name": "ipython",
    "version": 3
   },
   "file_extension": ".py",
   "mimetype": "text/x-python",
   "name": "python",
   "nbconvert_exporter": "python",
   "pygments_lexer": "ipython3",
   "version": "3.8.8-final"
  },
  "orig_nbformat": 2,
  "kernelspec": {
   "name": "python3",
   "display_name": "Python 3.8.8 64-bit ('eleflow-jm8Snf4y-py3.8')",
   "metadata": {
    "interpreter": {
     "hash": "0136060d1a23f390d78cea4682c37939f2afa1dd75822a732f622ca121b942ff"
    }
   }
  }
 },
 "nbformat": 4,
 "nbformat_minor": 2,
 "cells": [
  {
   "cell_type": "code",
   "execution_count": 1,
   "metadata": {},
   "outputs": [
    {
     "output_type": "execute_result",
     "data": {
      "text/plain": [
       "      ano       insumos   agropecuária      industria       servicos  \\\n",
       "0  1996.0  31597.663029  200211.777672  514755.882623  646536.982537   \n",
       "1  1997.0  32825.998197  199911.301734  482894.842674  604714.559307   \n",
       "2  1998.0  31818.410647  200969.741431  455966.002147  576123.413175   \n",
       "3  1999.0  34784.067160  206952.587184  453199.228768  573119.731296   \n",
       "4  2000.0  40682.954859  209175.390473  496957.470676  626206.339831   \n",
       "\n",
       "          total         ramo  pib_renda  \n",
       "0  1.393102e+06  agronegocio       True  \n",
       "1  1.320347e+06  agronegocio       True  \n",
       "2  1.264878e+06  agronegocio       True  \n",
       "3  1.268056e+06  agronegocio       True  \n",
       "4  1.373022e+06  agronegocio       True  "
      ],
      "text/html": "<div>\n<style scoped>\n    .dataframe tbody tr th:only-of-type {\n        vertical-align: middle;\n    }\n\n    .dataframe tbody tr th {\n        vertical-align: top;\n    }\n\n    .dataframe thead th {\n        text-align: right;\n    }\n</style>\n<table border=\"1\" class=\"dataframe\">\n  <thead>\n    <tr style=\"text-align: right;\">\n      <th></th>\n      <th>ano</th>\n      <th>insumos</th>\n      <th>agropecuária</th>\n      <th>industria</th>\n      <th>servicos</th>\n      <th>total</th>\n      <th>ramo</th>\n      <th>pib_renda</th>\n    </tr>\n  </thead>\n  <tbody>\n    <tr>\n      <th>0</th>\n      <td>1996.0</td>\n      <td>31597.663029</td>\n      <td>200211.777672</td>\n      <td>514755.882623</td>\n      <td>646536.982537</td>\n      <td>1.393102e+06</td>\n      <td>agronegocio</td>\n      <td>True</td>\n    </tr>\n    <tr>\n      <th>1</th>\n      <td>1997.0</td>\n      <td>32825.998197</td>\n      <td>199911.301734</td>\n      <td>482894.842674</td>\n      <td>604714.559307</td>\n      <td>1.320347e+06</td>\n      <td>agronegocio</td>\n      <td>True</td>\n    </tr>\n    <tr>\n      <th>2</th>\n      <td>1998.0</td>\n      <td>31818.410647</td>\n      <td>200969.741431</td>\n      <td>455966.002147</td>\n      <td>576123.413175</td>\n      <td>1.264878e+06</td>\n      <td>agronegocio</td>\n      <td>True</td>\n    </tr>\n    <tr>\n      <th>3</th>\n      <td>1999.0</td>\n      <td>34784.067160</td>\n      <td>206952.587184</td>\n      <td>453199.228768</td>\n      <td>573119.731296</td>\n      <td>1.268056e+06</td>\n      <td>agronegocio</td>\n      <td>True</td>\n    </tr>\n    <tr>\n      <th>4</th>\n      <td>2000.0</td>\n      <td>40682.954859</td>\n      <td>209175.390473</td>\n      <td>496957.470676</td>\n      <td>626206.339831</td>\n      <td>1.373022e+06</td>\n      <td>agronegocio</td>\n      <td>True</td>\n    </tr>\n  </tbody>\n</table>\n</div>"
     },
     "metadata": {},
     "execution_count": 1
    }
   ],
   "source": [
    "import pandas as pd\n",
    "\n",
    "column_names = ['ano', 'insumos', 'agropecuária', 'industria', 'servicos', 'total']\n",
    "sheet_cols = ['A:F', 'A,H:L', 'A,N:R', 'A,T:X', 'A,Z:AD', 'A,AF:AJ']\n",
    "add_column = ['agronegocio', 'agricola', 'pecuario']\n",
    "\n",
    "list_pib = []\n",
    "\n",
    "n = 0\n",
    "for cols in sheet_cols:\n",
    "    df_pib = pd.read_excel(\n",
    "        'raw/PIB_Cepea.xlsx',\n",
    "        header=None,\n",
    "        usecols=cols,\n",
    "        skiprows=8,\n",
    "        nrows=25,\n",
    "        names=column_names\n",
    "    )\n",
    "    df_pib['ramo'] = add_column[n if n < 3 else n - 3]\n",
    "    df_pib['pib_renda'] = True if n < 3 else False\n",
    "    list_pib.append(df_pib)\n",
    "    n += 1\n",
    "\n",
    "df_pib = pd.concat(list_pib, ignore_index=True)\n",
    "\n",
    "df_pib.head()"
   ]
  },
  {
   "cell_type": "code",
   "execution_count": 2,
   "metadata": {},
   "outputs": [
    {
     "output_type": "execute_result",
     "data": {
      "text/plain": [
       "                uf area_abril  area_maio area_junho prod_abril  prod_maio  \\\n",
       "22         RORAIMA     51 827     51 827     51 827    175 314    171 605   \n",
       "23  SANTA CATARINA  1 284 621  1 281 686  1 281 686  6 540 570  6 540 555   \n",
       "24       SÃO PAULO  2 291 584  2 325 916  2 366 064  9 224 840  9 243 126   \n",
       "25         SERGIPE    147 525    162 722    162 138    695 197    676 097   \n",
       "26       TOCANTINS  1 368 786  1 427 327  1 427 327  4 374 994  4 779 654   \n",
       "\n",
       "    prod_junho  \n",
       "22     171 605  \n",
       "23   6 540 555  \n",
       "24  10 344 265  \n",
       "25     785 638  \n",
       "26   4 779 654  "
      ],
      "text/html": "<div>\n<style scoped>\n    .dataframe tbody tr th:only-of-type {\n        vertical-align: middle;\n    }\n\n    .dataframe tbody tr th {\n        vertical-align: top;\n    }\n\n    .dataframe thead th {\n        text-align: right;\n    }\n</style>\n<table border=\"1\" class=\"dataframe\">\n  <thead>\n    <tr style=\"text-align: right;\">\n      <th></th>\n      <th>uf</th>\n      <th>area_abril</th>\n      <th>area_maio</th>\n      <th>area_junho</th>\n      <th>prod_abril</th>\n      <th>prod_maio</th>\n      <th>prod_junho</th>\n    </tr>\n  </thead>\n  <tbody>\n    <tr>\n      <th>22</th>\n      <td>RORAIMA</td>\n      <td>51 827</td>\n      <td>51 827</td>\n      <td>51 827</td>\n      <td>175 314</td>\n      <td>171 605</td>\n      <td>171 605</td>\n    </tr>\n    <tr>\n      <th>23</th>\n      <td>SANTA CATARINA</td>\n      <td>1 284 621</td>\n      <td>1 281 686</td>\n      <td>1 281 686</td>\n      <td>6 540 570</td>\n      <td>6 540 555</td>\n      <td>6 540 555</td>\n    </tr>\n    <tr>\n      <th>24</th>\n      <td>SÃO PAULO</td>\n      <td>2 291 584</td>\n      <td>2 325 916</td>\n      <td>2 366 064</td>\n      <td>9 224 840</td>\n      <td>9 243 126</td>\n      <td>10 344 265</td>\n    </tr>\n    <tr>\n      <th>25</th>\n      <td>SERGIPE</td>\n      <td>147 525</td>\n      <td>162 722</td>\n      <td>162 138</td>\n      <td>695 197</td>\n      <td>676 097</td>\n      <td>785 638</td>\n    </tr>\n    <tr>\n      <th>26</th>\n      <td>TOCANTINS</td>\n      <td>1 368 786</td>\n      <td>1 427 327</td>\n      <td>1 427 327</td>\n      <td>4 374 994</td>\n      <td>4 779 654</td>\n      <td>4 779 654</td>\n    </tr>\n  </tbody>\n</table>\n</div>"
     },
     "metadata": {},
     "execution_count": 2
    }
   ],
   "source": [
    "df_prod = pd.read_excel(\n",
    "    'raw/produção_2019.xlsx',\n",
    "    header=None,\n",
    "    skiprows=6,\n",
    "    nrows=27,\n",
    "    names=['uf', 'area_abril', 'area_maio', 'area_junho', 'prod_abril', 'prod_maio', 'prod_junho']\n",
    ")\n",
    "\n",
    "df_prod.tail()"
   ]
  },
  {
   "cell_type": "code",
   "execution_count": 3,
   "metadata": {},
   "outputs": [
    {
     "output_type": "execute_result",
     "data": {
      "text/plain": [
       "   area_abril  area_maio  area_junho  prod_abril  prod_maio  prod_junho  \\\n",
       "0       44487      39352       39361       89948      85784       86852   \n",
       "1       45842      80283       80385       95917     105458      105525   \n",
       "2       21548      22442       23242       50813      60375       62955   \n",
       "3       22930      22930       22930       41207      41420       41420   \n",
       "4     3130065    3107865     3085865     8283660    9065031     9359331   \n",
       "\n",
       "         uf  \n",
       "0      ACRE  \n",
       "1   ALAGOAS  \n",
       "2     AMAPÁ  \n",
       "3  AMAZONAS  \n",
       "4     BAHIA  "
      ],
      "text/html": "<div>\n<style scoped>\n    .dataframe tbody tr th:only-of-type {\n        vertical-align: middle;\n    }\n\n    .dataframe tbody tr th {\n        vertical-align: top;\n    }\n\n    .dataframe thead th {\n        text-align: right;\n    }\n</style>\n<table border=\"1\" class=\"dataframe\">\n  <thead>\n    <tr style=\"text-align: right;\">\n      <th></th>\n      <th>area_abril</th>\n      <th>area_maio</th>\n      <th>area_junho</th>\n      <th>prod_abril</th>\n      <th>prod_maio</th>\n      <th>prod_junho</th>\n      <th>uf</th>\n    </tr>\n  </thead>\n  <tbody>\n    <tr>\n      <th>0</th>\n      <td>44487</td>\n      <td>39352</td>\n      <td>39361</td>\n      <td>89948</td>\n      <td>85784</td>\n      <td>86852</td>\n      <td>ACRE</td>\n    </tr>\n    <tr>\n      <th>1</th>\n      <td>45842</td>\n      <td>80283</td>\n      <td>80385</td>\n      <td>95917</td>\n      <td>105458</td>\n      <td>105525</td>\n      <td>ALAGOAS</td>\n    </tr>\n    <tr>\n      <th>2</th>\n      <td>21548</td>\n      <td>22442</td>\n      <td>23242</td>\n      <td>50813</td>\n      <td>60375</td>\n      <td>62955</td>\n      <td>AMAPÁ</td>\n    </tr>\n    <tr>\n      <th>3</th>\n      <td>22930</td>\n      <td>22930</td>\n      <td>22930</td>\n      <td>41207</td>\n      <td>41420</td>\n      <td>41420</td>\n      <td>AMAZONAS</td>\n    </tr>\n    <tr>\n      <th>4</th>\n      <td>3130065</td>\n      <td>3107865</td>\n      <td>3085865</td>\n      <td>8283660</td>\n      <td>9065031</td>\n      <td>9359331</td>\n      <td>BAHIA</td>\n    </tr>\n  </tbody>\n</table>\n</div>"
     },
     "metadata": {},
     "execution_count": 3
    }
   ],
   "source": [
    "df_prod = df_prod[\n",
    "    ['area_abril', 'area_maio', 'area_junho', 'prod_abril', 'prod_maio', 'prod_junho']\n",
    "].applymap(lambda _: _.replace(' ', '')).astype('int').assign(uf=df_prod['uf'])\n",
    "\n",
    "df_prod.head()"
   ]
  },
  {
   "cell_type": "code",
   "execution_count": 4,
   "metadata": {},
   "outputs": [
    {
     "output_type": "execute_result",
     "data": {
      "text/plain": [
       "       uf    variable  value\n",
       "0    ACRE  area_abril  44487\n",
       "27   ACRE   area_maio  39352\n",
       "54   ACRE  area_junho  39361\n",
       "81   ACRE  prod_abril  89948\n",
       "108  ACRE   prod_maio  85784"
      ],
      "text/html": "<div>\n<style scoped>\n    .dataframe tbody tr th:only-of-type {\n        vertical-align: middle;\n    }\n\n    .dataframe tbody tr th {\n        vertical-align: top;\n    }\n\n    .dataframe thead th {\n        text-align: right;\n    }\n</style>\n<table border=\"1\" class=\"dataframe\">\n  <thead>\n    <tr style=\"text-align: right;\">\n      <th></th>\n      <th>uf</th>\n      <th>variable</th>\n      <th>value</th>\n    </tr>\n  </thead>\n  <tbody>\n    <tr>\n      <th>0</th>\n      <td>ACRE</td>\n      <td>area_abril</td>\n      <td>44487</td>\n    </tr>\n    <tr>\n      <th>27</th>\n      <td>ACRE</td>\n      <td>area_maio</td>\n      <td>39352</td>\n    </tr>\n    <tr>\n      <th>54</th>\n      <td>ACRE</td>\n      <td>area_junho</td>\n      <td>39361</td>\n    </tr>\n    <tr>\n      <th>81</th>\n      <td>ACRE</td>\n      <td>prod_abril</td>\n      <td>89948</td>\n    </tr>\n    <tr>\n      <th>108</th>\n      <td>ACRE</td>\n      <td>prod_maio</td>\n      <td>85784</td>\n    </tr>\n  </tbody>\n</table>\n</div>"
     },
     "metadata": {},
     "execution_count": 4
    }
   ],
   "source": [
    "df_prod_melted = df_prod.melt(id_vars='uf').query('uf == \"ACRE\"')\n",
    "\n",
    "df_prod_melted.head()"
   ]
  },
  {
   "cell_type": "code",
   "execution_count": 5,
   "metadata": {},
   "outputs": [],
   "source": [
    "from sqlalchemy import create_engine\n",
    "from decouple import config\n",
    "\n",
    "USER_DB = config(\"USER_DB\", default='postgres')\n",
    "PASSWORD_DB = config(\"PASSWORD_DB\", default='password')\n",
    "URL_DB = config(\"URL_DB\", default='localhost')\n",
    "NAME_DB = config(\"NAME_DB\", default='db_name')\n",
    "PORT_DB = config(\"PORT_DB\", default='5432')\n",
    "DB_URL = f\"postgresql://{USER_DB}:{PASSWORD_DB}@{URL_DB}:{PORT_DB}/{NAME_DB}\"\n",
    "\n",
    "\n",
    "engine = create_engine(DB_URL)\n",
    "\n",
    "df_pib.to_sql(name='PIP_Cepea', con=engine, if_exists='replace')\n",
    "df_prod.to_sql(name='producao_2019', con=engine, if_exists='replace')"
   ]
  }
 ]
}