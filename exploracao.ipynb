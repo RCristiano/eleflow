{
 "metadata": {
  "language_info": {
   "codemirror_mode": {
    "name": "ipython",
    "version": 3
   },
   "file_extension": ".py",
   "mimetype": "text/x-python",
   "name": "python",
   "nbconvert_exporter": "python",
   "pygments_lexer": "ipython3",
   "version": "3.8.8-final"
  },
  "orig_nbformat": 2,
  "kernelspec": {
   "name": "python3",
   "display_name": "Python 3.8.8 64-bit ('eleflow-jm8Snf4y-py3.8')",
   "metadata": {
    "interpreter": {
     "hash": "0136060d1a23f390d78cea4682c37939f2afa1dd75822a732f622ca121b942ff"
    }
   }
  }
 },
 "nbformat": 4,
 "nbformat_minor": 2,
 "cells": [
  {
   "cell_type": "code",
   "execution_count": 2,
   "metadata": {},
   "outputs": [],
   "source": [
    "import pandas as pd\n",
    "from sqlalchemy import create_engine\n",
    "from decouple import config\n",
    "\n",
    "USER_DB = config(\"USER_DB\", default='postgres')\n",
    "PASSWORD_DB = config(\"PASSWORD_DB\", default='password')\n",
    "URL_DB = config(\"URL_DB\", default='localhost')\n",
    "NAME_DB = config(\"NAME_DB\", default='db_name')\n",
    "PORT_DB = config(\"PORT_DB\", default='5432')\n",
    "DB_URL = f\"postgresql://{USER_DB}:{PASSWORD_DB}@{URL_DB}:{PORT_DB}/{NAME_DB}\"\n",
    "\n",
    "\n",
    "engine = create_engine(DB_URL)"
   ]
  },
  {
   "cell_type": "code",
   "execution_count": 3,
   "metadata": {},
   "outputs": [
    {
     "output_type": "execute_result",
     "data": {
      "text/plain": [
       "        ano       insumos   agropecuária      industria       servicos  \\\n",
       "index                                                                    \n",
       "0      1996  31597.663029  200211.777672  514755.882623  646536.982537   \n",
       "1      1997  32825.998197  199911.301734  482894.842674  604714.559307   \n",
       "2      1998  31818.410647  200969.741431  455966.002147  576123.413175   \n",
       "3      1999  34784.067160  206952.587184  453199.228768  573119.731296   \n",
       "4      2000  40682.954859  209175.390473  496957.470676  626206.339831   \n",
       "\n",
       "              total         ramo  pib_renda  \n",
       "index                                        \n",
       "0      1.393102e+06  agronegocio       True  \n",
       "1      1.320347e+06  agronegocio       True  \n",
       "2      1.264878e+06  agronegocio       True  \n",
       "3      1.268056e+06  agronegocio       True  \n",
       "4      1.373022e+06  agronegocio       True  "
      ],
      "text/html": "<div>\n<style scoped>\n    .dataframe tbody tr th:only-of-type {\n        vertical-align: middle;\n    }\n\n    .dataframe tbody tr th {\n        vertical-align: top;\n    }\n\n    .dataframe thead th {\n        text-align: right;\n    }\n</style>\n<table border=\"1\" class=\"dataframe\">\n  <thead>\n    <tr style=\"text-align: right;\">\n      <th></th>\n      <th>ano</th>\n      <th>insumos</th>\n      <th>agropecuária</th>\n      <th>industria</th>\n      <th>servicos</th>\n      <th>total</th>\n      <th>ramo</th>\n      <th>pib_renda</th>\n    </tr>\n    <tr>\n      <th>index</th>\n      <th></th>\n      <th></th>\n      <th></th>\n      <th></th>\n      <th></th>\n      <th></th>\n      <th></th>\n      <th></th>\n    </tr>\n  </thead>\n  <tbody>\n    <tr>\n      <th>0</th>\n      <td>1996</td>\n      <td>31597.663029</td>\n      <td>200211.777672</td>\n      <td>514755.882623</td>\n      <td>646536.982537</td>\n      <td>1.393102e+06</td>\n      <td>agronegocio</td>\n      <td>True</td>\n    </tr>\n    <tr>\n      <th>1</th>\n      <td>1997</td>\n      <td>32825.998197</td>\n      <td>199911.301734</td>\n      <td>482894.842674</td>\n      <td>604714.559307</td>\n      <td>1.320347e+06</td>\n      <td>agronegocio</td>\n      <td>True</td>\n    </tr>\n    <tr>\n      <th>2</th>\n      <td>1998</td>\n      <td>31818.410647</td>\n      <td>200969.741431</td>\n      <td>455966.002147</td>\n      <td>576123.413175</td>\n      <td>1.264878e+06</td>\n      <td>agronegocio</td>\n      <td>True</td>\n    </tr>\n    <tr>\n      <th>3</th>\n      <td>1999</td>\n      <td>34784.067160</td>\n      <td>206952.587184</td>\n      <td>453199.228768</td>\n      <td>573119.731296</td>\n      <td>1.268056e+06</td>\n      <td>agronegocio</td>\n      <td>True</td>\n    </tr>\n    <tr>\n      <th>4</th>\n      <td>2000</td>\n      <td>40682.954859</td>\n      <td>209175.390473</td>\n      <td>496957.470676</td>\n      <td>626206.339831</td>\n      <td>1.373022e+06</td>\n      <td>agronegocio</td>\n      <td>True</td>\n    </tr>\n  </tbody>\n</table>\n</div>"
     },
     "metadata": {},
     "execution_count": 3
    }
   ],
   "source": [
    "df_pib = pd.read_sql('SELECT * FROM \"PIP_Cepea\"', con=engine, index_col='index')\n",
    "\n",
    "df_pib.head()"
   ]
  },
  {
   "cell_type": "code",
   "execution_count": 4,
   "metadata": {},
   "outputs": [
    {
     "output_type": "execute_result",
     "data": {
      "text/plain": [
       "       area_abril  area_maio  area_junho  prod_abril  prod_maio  prod_junho  \\\n",
       "index                                                                         \n",
       "0           45842      80283       80385       95917     105458      105525   \n",
       "1           21548      22442       23242       50813      60375       62955   \n",
       "2           22930      22930       22930       41207      41420       41420   \n",
       "3         3130065    3107865     3085865     8283660    9065031     9359331   \n",
       "4          909518     961926      961640      559791     918483      903649   \n",
       "\n",
       "             uf  \n",
       "index            \n",
       "0       ALAGOAS  \n",
       "1         AMAPÁ  \n",
       "2      AMAZONAS  \n",
       "3         BAHIA  \n",
       "4         CEARÁ  "
      ],
      "text/html": "<div>\n<style scoped>\n    .dataframe tbody tr th:only-of-type {\n        vertical-align: middle;\n    }\n\n    .dataframe tbody tr th {\n        vertical-align: top;\n    }\n\n    .dataframe thead th {\n        text-align: right;\n    }\n</style>\n<table border=\"1\" class=\"dataframe\">\n  <thead>\n    <tr style=\"text-align: right;\">\n      <th></th>\n      <th>area_abril</th>\n      <th>area_maio</th>\n      <th>area_junho</th>\n      <th>prod_abril</th>\n      <th>prod_maio</th>\n      <th>prod_junho</th>\n      <th>uf</th>\n    </tr>\n    <tr>\n      <th>index</th>\n      <th></th>\n      <th></th>\n      <th></th>\n      <th></th>\n      <th></th>\n      <th></th>\n      <th></th>\n    </tr>\n  </thead>\n  <tbody>\n    <tr>\n      <th>0</th>\n      <td>45842</td>\n      <td>80283</td>\n      <td>80385</td>\n      <td>95917</td>\n      <td>105458</td>\n      <td>105525</td>\n      <td>ALAGOAS</td>\n    </tr>\n    <tr>\n      <th>1</th>\n      <td>21548</td>\n      <td>22442</td>\n      <td>23242</td>\n      <td>50813</td>\n      <td>60375</td>\n      <td>62955</td>\n      <td>AMAPÁ</td>\n    </tr>\n    <tr>\n      <th>2</th>\n      <td>22930</td>\n      <td>22930</td>\n      <td>22930</td>\n      <td>41207</td>\n      <td>41420</td>\n      <td>41420</td>\n      <td>AMAZONAS</td>\n    </tr>\n    <tr>\n      <th>3</th>\n      <td>3130065</td>\n      <td>3107865</td>\n      <td>3085865</td>\n      <td>8283660</td>\n      <td>9065031</td>\n      <td>9359331</td>\n      <td>BAHIA</td>\n    </tr>\n    <tr>\n      <th>4</th>\n      <td>909518</td>\n      <td>961926</td>\n      <td>961640</td>\n      <td>559791</td>\n      <td>918483</td>\n      <td>903649</td>\n      <td>CEARÁ</td>\n    </tr>\n  </tbody>\n</table>\n</div>"
     },
     "metadata": {},
     "execution_count": 4
    }
   ],
   "source": [
    "df_prod = pd.read_sql('SELECT * FROM \"producao_2019\"', con=engine, index_col='index')\n",
    "\n",
    "df_prod.head()"
   ]
  },
  {
   "source": [
    "### Qual a porcentagem de participação da região Centro-Oeste na produção nacional no primeiro semestre de 2019?"
   ],
   "cell_type": "markdown",
   "metadata": {}
  },
  {
   "cell_type": "code",
   "execution_count": 5,
   "metadata": {},
   "outputs": [
    {
     "output_type": "execute_result",
     "data": {
      "text/plain": [
       "'Total nacional em toneladas: 734492892'"
      ]
     },
     "metadata": {},
     "execution_count": 5
    }
   ],
   "source": [
    "total_br = df_prod[\n",
    "    ['prod_abril', 'prod_maio', 'prod_junho']\n",
    "].sum().sum()\n",
    "\n",
    "f'Produção nacional: {total_br}t'"
   ]
  },
  {
   "cell_type": "code",
   "execution_count": 18,
   "metadata": {},
   "outputs": [
    {
     "output_type": "execute_result",
     "data": {
      "text/plain": [
       "'Produção da região centro-oeste: 343321217t'"
      ]
     },
     "metadata": {},
     "execution_count": 18
    }
   ],
   "source": [
    "total_co = df_prod[\n",
    "    df_prod['uf'].isin(\n",
    "        ['DISTRITO FEDERAL', 'GOIÁS', 'MATO GROSSO', 'MATO GROSSO DO SUL']\n",
    "    )\n",
    "][\n",
    "    ['prod_abril', 'prod_maio', 'prod_junho']\n",
    "].sum().sum()\n",
    "\n",
    "f'Produção da região centro-oeste: {total_co}t'"
   ]
  },
  {
   "cell_type": "code",
   "execution_count": 7,
   "metadata": {},
   "outputs": [
    {
     "output_type": "execute_result",
     "data": {
      "text/plain": [
       "'343321217 = 46.74% de 734492892'"
      ]
     },
     "metadata": {},
     "execution_count": 7
    }
   ],
   "source": [
    "co_percent = total_co / (total_br / 100)\n",
    "\n",
    "f'{total_co} = {round(co_percent, 2)}% de {total_br}'"
   ]
  },
  {
   "source": [
    "### Qual estado possui maior área produtiva? "
   ],
   "cell_type": "markdown",
   "metadata": {}
  },
  {
   "cell_type": "code",
   "execution_count": 8,
   "metadata": {},
   "outputs": [
    {
     "output_type": "execute_result",
     "data": {
      "text/plain": [
       "index\n",
       "9    MATO GROSSO\n",
       "Name: uf, dtype: object"
      ]
     },
     "metadata": {},
     "execution_count": 8
    }
   ],
   "source": [
    "df_prod[\n",
    "    df_prod['area_junho'] == df_prod['area_junho'].max()\n",
    "]['uf']"
   ]
  },
  {
   "source": [
    "### Qual a média de produção mensal para o estado de São Paulo?"
   ],
   "cell_type": "markdown",
   "metadata": {}
  },
  {
   "cell_type": "code",
   "execution_count": 19,
   "metadata": {},
   "outputs": [
    {
     "output_type": "execute_result",
     "data": {
      "text/plain": [
       "9604077.0"
      ]
     },
     "metadata": {},
     "execution_count": 19
    }
   ],
   "source": [
    "df_prod[df_prod['uf'] == 'SÃO PAULO'][\n",
    "    ['prod_abril', 'prod_maio', 'prod_junho']\n",
    "].sum().mean()"
   ]
  },
  {
   "source": [
    "### Defina a correlação entre a produção agrícola e o PIB do Ramo Agrícola e Pecuário em 2019. Qual segmento possui maior correlação e qual possui menor correlação? Demonstre num gráfico e explique os coeficientes."
   ],
   "cell_type": "markdown",
   "metadata": {}
  },
  {
   "cell_type": "code",
   "execution_count": null,
   "metadata": {},
   "outputs": [],
   "source": []
  }
 ]
}